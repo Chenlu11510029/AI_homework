{
 "cells": [
  {
   "cell_type": "markdown",
   "metadata": {},
   "source": [
    "# Introduction to Artificial Intelligence for Non Computing"
   ]
  },
  {
   "cell_type": "markdown",
   "metadata": {},
   "source": [
    "## Practical 3 (weeks 5 - 6)"
   ]
  },
  {
   "cell_type": "markdown",
   "metadata": {},
   "source": [
    "The following links provide additional information about data analysis , machine learning and Numpy"
   ]
  },
  {
   "cell_type": "markdown",
   "metadata": {},
   "source": [
    "Python data analysis: https://www.imooc.com/learn/843\n",
    "machine learning: https://www.imooc.com/learn/717\n",
    "Numpy :https://www.imooc.com/learn/943"
   ]
  },
  {
   "cell_type": "markdown",
   "metadata": {},
   "source": [
    "#### Theory Questions"
   ]
  },
  {
   "cell_type": "markdown",
   "metadata": {},
   "source": [
    "1\\.Which of the following are true and which are false? Give brief explanations.\n",
    "- a. In a fully observable, turn-taking, zero-sum game between two perfectly rational players,it does not help the first player to know what strategy the second player is using—that is, what move the second player will make, given the first player's move.\n",
    "- b. In a partially observable, turn-taking, zero-sum game between two perfectly rational players, it does not help the first player to know what move the second player will make, given the first player's move.\n",
    "- c. A perfectly rational backgammon agent never loses.\n",
    "\n",
    "See textbook Chapter6 24.6"
   ]
  },
  {
   "cell_type": "markdown",
   "metadata": {},
   "source": [
    "_your answer here..._ \n",
    "\n",
    "***"
   ]
  },
  {
   "cell_type": "markdown",
   "metadata": {},
   "source": [
    "2\\.Define in your own words the terms constraint, backtracking search, arc consistency,backjumping, min-conflicts, and cycle cutset.\n",
    "\n",
    "See textbook Chapter6 6.16"
   ]
  },
  {
   "cell_type": "markdown",
   "metadata": {},
   "source": [
    "_your answer here..._ \n",
    "\n",
    "***"
   ]
  },
  {
   "cell_type": "markdown",
   "metadata": {},
   "source": [
    "3\\.Explain why it is a good heuristic to choose the variable that is most constrained but the value that is least constraining in a CSP search.\n",
    "\n",
    "See textbook Chapter6 6.9"
   ]
  },
  {
   "cell_type": "markdown",
   "metadata": {},
   "source": [
    "_your answer here..._ \n",
    "\n",
    "***"
   ]
  },
  {
   "cell_type": "markdown",
   "metadata": {},
   "source": [
    "4\\.Consider the following procedure for choosing moves in games with chance nodes: \n",
    "- 1、Generate some dice-roll sequences (say, 50) down to a suitable depth (say, 8).\n",
    "- 2、With known dice rolls, the game tree becomes deterministic. For each dice-roll sequence,solve the resulting deterministic game tree using alpha-beta.\n",
    "- 3、Use the results to estimate the value of each move and to choose the best.Will this procedure work well? Why (or why not)?\n",
    "\n",
    "See textbook Chapter5 5.19"
   ]
  },
  {
   "cell_type": "markdown",
   "metadata": {},
   "source": [
    "_your answer here..._ \n",
    "\n",
    "***"
   ]
  },
  {
   "cell_type": "markdown",
   "metadata": {},
   "source": [
    "5\\. Now,please consider this game:  there are three plates A, B and C, each plate has three bills. A puts 1, 20, 50; B puts 5, 10, 100; C puts 1, 5, 20. All units are \"Yuan\". There are two persons A and B, and two of them can check out three plates and banknotes .（ A is ourself, The other is B）\n",
    "The game is divided into three steps: \n",
    "- 1、A select a plate from three plate.\n",
    "- 2、B take out two banknotes from A selected plate,and give the  banknotes to A.  \n",
    "- 3、A take one of the two banknotes, and take it away.among,A want to get the max banknotes, B want to let A to get the min.\n",
    "\n",
    "Try to understand the minimax algorithm，you can click the link:https://blog.csdn.net/tangchenyi/article/details/22920031"
   ]
  },
  {
   "cell_type": "markdown",
   "metadata": {},
   "source": [
    "_your answer here..._ \n",
    "\n",
    "***"
   ]
  },
  {
   "cell_type": "markdown",
   "metadata": {},
   "source": [
    "### Programming Excercises"
   ]
  },
  {
   "cell_type": "markdown",
   "metadata": {},
   "source": [
    "1\\. Guess number(Single number): please generate a randomly number  with the function (random), then ask someone to guess the number,I think we should give the corresponding hint, otherwise it will be very difficult to guess the number.the game will be over untill you get the right number."
   ]
  },
  {
   "cell_type": "code",
   "execution_count": 5,
   "metadata": {},
   "outputs": [],
   "source": [
    "class Solution(object):\n",
    "    def guessNumber(self, n):\n",
    "        \"\"\"\n",
    "        :type n: int\n",
    "        :rtype: int\n",
    "        \"\"\"\n",
    "        left, right = 1, n\n",
    "        while True:\n",
    "            mid = (left + right) / 2\n",
    "            if guess(mid) == 1:\n",
    "                left = mid + 1\n",
    "            elif guess(mid) == -1:\n",
    "                right = mid - 1\n",
    "            else:\n",
    "                return mid\n"
   ]
  },
  {
   "cell_type": "markdown",
   "metadata": {},
   "source": [
    "2\\.if you had understand the guess single number games,Congratulates,next is the guess three number games,Maybe you can do it well.But this is a different way of thinking. \n",
    "first : we need generate three numbers,there are most ten times chances give  you to guess the number,of course,we also give you some cue.\n",
    "\n",
    "- 'When I say:-->It means:\n",
    "- 'error--> The 3 numbers are not in the mystical numbers.'\n",
    "- 'Only the number is correct --> the number is right , but the position is not right.'\n",
    "- 'Absolutely right--> numbers is right and the position also right.'\n",
    "\n",
    "Maybe it's better for you to understand the rule well through see the picture.\n",
    "<div style=\"float:left;\" ><img src=\"img/p1.png\" width=\"400\" height=\"300\" >"
   ]
  },
  {
   "cell_type": "code",
   "execution_count": null,
   "metadata": {},
   "outputs": [],
   "source": [
    "## write your answer here!"
   ]
  },
  {
   "cell_type": "markdown",
   "metadata": {},
   "source": [
    "3\\.please try using Python's Tkinter to make a visual interface（GUI）.if you don't know anything.Maybe you can refer to the below interface.and implement it by code.\n",
    "\n",
    "<div style=\"float:left;\" ><img src=\"img/p2.png\" width=\"200\" height=\"200\" >"
   ]
  },
  {
   "cell_type": "code",
   "execution_count": 14,
   "metadata": {},
   "outputs": [],
   "source": [
    "import sys\n",
    "from tkinter import *\n",
    "from tkinter import filedialog\n",
    "\n",
    "\n",
    "def mHello():\n",
    "    mText=ment.get()\n",
    "    mlabel1 = Label(myApp,text=mText).pack()\n",
    "\n",
    "def myNew():\n",
    "    mlabel1 = Label(myApp,text=\"YO\").pack()\n",
    "\n",
    "def myOpen():\n",
    "    myOpen = filedialog.askopenfile()\n",
    "    mlabel4 = Label(myApp,text=myOpen).pack()\n",
    "\n",
    "def mAbout():\n",
    "    messagebox.showinfo(title=\"About\",message=\"This is the about box\")\n",
    "\n",
    "def mQuit():\n",
    "    mExit = messagebox.askyesno(title=\"Quit\", message=\"Are you sure\")\n",
    "    if mExit > 0:\n",
    "        myApp.destroy()\n",
    "        \n",
    "    \n",
    "myApp = Tk()\n",
    "#create a string variable\n",
    "ment = StringVar()\n",
    "\n",
    "#set the size of window\n",
    "myApp.geometry('450x450+200+200')\n",
    "\n",
    "myApp.title('Myapp')\n",
    "\n",
    "mLabel = Label(myApp,text='my label').pack()\n",
    "\n",
    "mButton = Button(myApp,text ='OK', command = mHello).pack()\n",
    "\n",
    "#set the ment variable from the text entry box\n",
    "mEntry = Entry(myApp,textvariable=ment).pack()\n",
    "\n",
    "#create the menubar\n",
    "menubar = Menu(myApp)\n",
    "\n",
    "#create the file component of that menubar\n",
    "filemenu = Menu(menubar, tearoff=0)\n",
    "\n",
    "#Add the sub headings to the file menu\n",
    "filemenu.add_command(label=\"New\", command=myNew)\n",
    "filemenu.add_command(label=\"Open\", command=myOpen)\n",
    "filemenu.add_command(label=\"Save As...\")\n",
    "filemenu.add_command(label=\"Close\", command=mQuit)\n",
    "\n",
    "menubar.add_cascade(label=\"File\",menu=filemenu)\n",
    "\n",
    "\n",
    "helpmenu = Menu(menubar, tearoff=0)\n",
    "helpmenu.add_command(label=\"Help docs\")\n",
    "helpmenu.add_command(label=\"About\",command=mAbout)\n",
    "menubar.add_cascade(label=\"Help\",menu=helpmenu)\n",
    "\n",
    "\n",
    "\n",
    "#add menubar to the window\n",
    "myApp.config(menu=menubar)\n",
    "\n",
    "myApp.mainloop()"
   ]
  },
  {
   "cell_type": "markdown",
   "metadata": {},
   "source": [
    "4\\.Through the initial trial of Tkinter,    please write a simple calculator.\n",
    "\n",
    "<div style=\"float:left;\" ><img src=\"img/p3.png\" width=\"180\" height=\"200\" center=\"left\"></div>\n",
    "<div style=\"float:left;\" ><img src=\"img/p4.png\" width=\"180\" height=\"200\" center=\"right\" ></div>"
   ]
  },
  {
   "cell_type": "code",
   "execution_count": 16,
   "metadata": {},
   "outputs": [],
   "source": [
    "import tkinter as tk\n",
    "\n",
    "calc = tk.Tk()\n",
    "calc.title(\"CrappyCalc\")\n",
    "\n",
    "buttons = [\n",
    "'7',  '8',  '9',  '*',  'C',\n",
    "'4',  '5',  '6',  '/',  'Neg',\n",
    "'1',  '2',  '3',  '-',  '$',\n",
    "'0',  '.',  '=',  '+',  '@' ]\n",
    "\n",
    "# set up GUI\n",
    "row = 1\n",
    "col = 0\n",
    "for i in buttons:\n",
    "    button_style = 'raised'\n",
    "    action = lambda x = i: click_event(x)\n",
    "    tk.Button(calc, text = i, width = 7, height = 7, relief = button_style, command = action) \\\n",
    "\t\t.grid(row = row, column = col, sticky = 'nesw', )\n",
    "    col += 1\n",
    "    if col > 4:\n",
    "        col = 0\n",
    "        row += 1\n",
    "\n",
    "display = tk.Entry(calc, width = 40, bg = \"white\")\n",
    "display.grid(row = 0, column = 0, columnspan = 5)\n",
    "\n",
    "def click_event(key):\n",
    "\n",
    "\t# = -> calculate results\n",
    "    if key == '=':\n",
    "        # safeguard against integer division\n",
    "        if '/' in display.get() and '.' not in display.get():\n",
    "            display.insert(tk.END, \".0\")\n",
    "\t\t\t\n",
    "        # attempt to evaluate results\n",
    "        try:\n",
    "            result = eval(display.get())\n",
    "            display.insert(tk.END, \" = \" + str(result))\n",
    "        except:\n",
    "            display.insert(tk.END, \"   Error, use only valid chars\")\n",
    "\t\t\t\n",
    "\t# C -> clear display\t\t\n",
    "    elif key == 'C':\n",
    "        display.delete(0, tk.END)\n",
    "\t\t\n",
    "\t\t\n",
    "\t# $ -> clear display\t\t\n",
    "    elif key == '$':\n",
    "        display.delete(0, tk.END)\n",
    "        display.insert(tk.END, \"$$$$C.$R.$E.$A.$M.$$$$\")\n",
    "\t\t\n",
    "\n",
    "\t# @ -> clear display\t\t\n",
    "    elif key == '@':\n",
    "        display.delete(0, tk.END)\n",
    "        display.insert(tk.END, \"wwwwwwwwwwwwwwwwebsite\")\t\t\n",
    "\n",
    "\t\t\n",
    "\t# neg -> negate term\n",
    "    elif key == 'neg':\n",
    "        if '=' in display.get():\n",
    "            display.delete(0, tk.END)\n",
    "        try:\n",
    "            if display.get()[0] == '-':\n",
    "                display.delete(0)\n",
    "            else:\n",
    "                display.insert(0, '-')\n",
    "        except IndexError:\n",
    "            pass\n",
    "\n",
    "\t# clear display and start new input\t\t\n",
    "    else:\n",
    "        if '=' in display.get():\n",
    "            display.delete(0, tk.END)\n",
    "        display.insert(tk.END, key)\n",
    "\n",
    "# RUNTIME\n",
    "calc.mainloop()"
   ]
  },
  {
   "cell_type": "markdown",
   "metadata": {},
   "source": [
    "5\\.Ball game:Python's pinball game, which can realize the game function of the keyboard control bottom baffle moving collision ball similar to table tennis game. \n",
    "\n",
    "<div style=\"float:left;\" ><img src=\"img/p5.png\" width=\"200\" height=\"200\" center=\"left\"></div>\n",
    "<div style=\"float:left;\" ><img src=\"img/p6.png\" width=\"200\" height=\"200\" center=\"right\" ></div>\n"
   ]
  },
  {
   "cell_type": "markdown",
   "metadata": {},
   "source": [
    "this is a step:how to install the matplotlib,you can reference this link:https://blog.csdn.net/not_give_up_/article/details/79058272\n",
    "1. Ball Class\n",
    "    draw is responsible for moving Ball\n",
    "    Collision detection, bounce, Ball detection of Paddle \n",
    "2. Paddle Class\n",
    "    draw is responsible for moving Paddle\n",
    "    Collision detection to determine whether or not to continue ,Monitor keyboard events\n",
    "3. main cycle\n",
    "    Drawing the Ball and Paddle"
   ]
  },
  {
   "cell_type": "code",
   "execution_count": 17,
   "metadata": {},
   "outputs": [
    {
     "ename": "ModuleNotFoundError",
     "evalue": "No module named 'pinball'",
     "output_type": "error",
     "traceback": [
      "\u001b[1;31m---------------------------------------------------------------------------\u001b[0m",
      "\u001b[1;31mModuleNotFoundError\u001b[0m                       Traceback (most recent call last)",
      "\u001b[1;32m<ipython-input-17-6a6f83bb3a98>\u001b[0m in \u001b[0;36m<module>\u001b[1;34m()\u001b[0m\n\u001b[0;32m      2\u001b[0m \u001b[1;32mimport\u001b[0m \u001b[0mlogging\u001b[0m\u001b[1;33m\u001b[0m\u001b[0m\n\u001b[0;32m      3\u001b[0m \u001b[1;33m\u001b[0m\u001b[0m\n\u001b[1;32m----> 4\u001b[1;33m \u001b[1;32mfrom\u001b[0m \u001b[0mpinball\u001b[0m\u001b[1;33m.\u001b[0m\u001b[0mgameengine\u001b[0m \u001b[1;32mimport\u001b[0m \u001b[0mGameEngine\u001b[0m\u001b[1;33m\u001b[0m\u001b[0m\n\u001b[0m\u001b[0;32m      5\u001b[0m \u001b[1;32mfrom\u001b[0m \u001b[0mpinball\u001b[0m\u001b[1;33m.\u001b[0m\u001b[0mcontrollers\u001b[0m\u001b[1;33m.\u001b[0m\u001b[0mpowerdriver16\u001b[0m \u001b[1;32mimport\u001b[0m \u001b[0mPowerDriver16\u001b[0m\u001b[1;33m\u001b[0m\u001b[0m\n\u001b[0;32m      6\u001b[0m \u001b[1;32mfrom\u001b[0m \u001b[0mpinball\u001b[0m\u001b[1;33m.\u001b[0m\u001b[0mcontrollers\u001b[0m\u001b[1;33m.\u001b[0m\u001b[0mmcp23017\u001b[0m \u001b[1;32mimport\u001b[0m \u001b[0mMcp23017\u001b[0m\u001b[1;33m\u001b[0m\u001b[0m\n",
      "\u001b[1;31mModuleNotFoundError\u001b[0m: No module named 'pinball'"
     ]
    }
   ],
   "source": [
    "\n",
    "import logging\n",
    "\n",
    "from pinball.gameengine import GameEngine\n",
    "from pinball.controllers.powerdriver16 import PowerDriver16\n",
    "from pinball.controllers.mcp23017 import Mcp23017\n",
    "from pinball.controllers.raspberrypi import RaspberryPi\n",
    "from pinball.gamedevices.flipper import Flipper\n",
    "from pinball.gamedevices.slingshot import Slingshot\n",
    "from pinball.gamedevices.led import Led\n",
    "from pinball.gamedevices.inlane import Inlane\n",
    "\n",
    "from gamelogic import MyGame\n",
    "\n",
    "##################################\n",
    "# 1) Instantiate hardware controllers\n",
    "raspberry = RaspberryPi()\n",
    "powerdriver16 = PowerDriver16(\"/dev/ttyAMA0\")\n",
    "mcp23017 = Mcp23017(0x20)\n",
    "controllers = [raspberry, powerdriver16, mcp23017]\n",
    "\n",
    "###################################\n",
    "# 2) Instantiate devices on controllers\n",
    "BANKB = 1\n",
    "flipper_L_POWER_ENERGIZED = powerdriver16.getOut(\"L Flipper coil (high)\", 0, BANKB, 0)\n",
    "flipper_L_POWER_HOLD = powerdriver16.getOut(\"L Flipper coil (hold)\", 0, BANKB, 1)\n",
    "flipper_L_EOS = raspberry.getIn(\"L Flipper EOS\", -1)\n",
    "flipper_R_POWER_ENERGIZED = powerdriver16.getOut(\"R Flipper coil (high)\", 0, BANKB, 2)\n",
    "flipper_R_POWER_HOLD = powerdriver16.getOut(\"R Flipper coil (hold)\", 0, BANKB, 3)\n",
    "flipper_R_EOS = raspberry.getIn(\"R Flipper EOS\", -1)\n",
    "flipper_L_BUTTON = raspberry.getIn(\"L Flipper button\", 23)\n",
    "flipper_R_BUTTON = raspberry.getIn(\"R Flipper button\", 24)\n",
    "\n",
    "slingshot_left_detect = mcp23017.getIn(\"L Slingshot detect\", 3, 0)\n",
    "slingshot_left_coil = powerdriver16.getOut(\"L Slingshot kicker\", 0, BANKB, 4)\n",
    "slingshot_right_detect = mcp23017.getIn(\"R Slingshot detect\", 4, 0)\n",
    "slingshot_right_coil = powerdriver16.getOut(\"R Slingshot kicker\", 0, BANKB, 5)\n",
    "\n",
    "inlane_detect_upper = mcp23017.getIn(\"Switch inlane Upper\", 6, 0, inv=True)\n",
    "inlane_detect_lower = mcp23017.getIn(\"Switch inlane Lower\", 5, 0, inv=True)\n",
    "\n",
    "led_1 = Led(mcp23017.getOut(\"Led Blue\", 0, 1))\n",
    "led_2 = Led(mcp23017.getOut(\"Led Green\", 1, 1))\n",
    "led_3 = Led(mcp23017.getOut(\"Led Red\", 2, 1))\n",
    "\n",
    "\n",
    "######################################\n",
    "# 3) Instantiate GameDevices -- using devices on controllers\n",
    "#    (composed of real-hardware devices)\n",
    "flipperL = Flipper(flipper_L_BUTTON, flipper_L_EOS,\n",
    "                   flipper_L_POWER_ENERGIZED, flipper_L_POWER_HOLD)\n",
    "flipperR = Flipper(flipper_R_BUTTON, flipper_R_EOS,\n",
    "                   flipper_R_POWER_ENERGIZED, flipper_R_POWER_HOLD)\n",
    "\n",
    "slingshotL = Slingshot(slingshot_left_detect, slingshot_left_coil)\n",
    "slingshotR = Slingshot(slingshot_right_detect, slingshot_right_coil)\n",
    "\n",
    "inlane = Inlane(inlane_detect_upper, inlane_detect_lower)\n",
    "\n",
    "######################################\n",
    "# 4) Instantiate game logic\n",
    "#\n",
    "game = MyGame(flipperL, flipperR, slingshotL, slingshotR, inlane, led_1,\n",
    "              led_2, led_3)\n",
    "\n",
    "# When invoked directly from the CLI, run the pinball engine as main process\n",
    "if __name__ == \"__main__\":\n",
    "    logger = logging.getLogger()\n",
    "    handler = logging.StreamHandler()\n",
    "    formatter = logging.Formatter('%(asctime)s %(name)-20s %(levelname)-8s %(message)s')\n",
    "    handler.setFormatter(formatter)\n",
    "    logger.addHandler(handler)\n",
    "    logger.setLevel(logging.DEBUG)\n",
    "\n",
    "    ge = GameEngine(controllers, game)\n",
    "    ge.run()"
   ]
  },
  {
   "cell_type": "code",
   "execution_count": null,
   "metadata": {},
   "outputs": [],
   "source": []
  }
 ],
 "metadata": {
  "kernelspec": {
   "display_name": "Python 3",
   "language": "python",
   "name": "python3"
  },
  "language_info": {
   "codemirror_mode": {
    "name": "ipython",
    "version": 3
   },
   "file_extension": ".py",
   "mimetype": "text/x-python",
   "name": "python",
   "nbconvert_exporter": "python",
   "pygments_lexer": "ipython3",
   "version": "3.6.5"
  }
 },
 "nbformat": 4,
 "nbformat_minor": 2
}
